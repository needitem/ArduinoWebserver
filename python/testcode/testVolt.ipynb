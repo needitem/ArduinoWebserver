{
 "cells": [
  {
   "cell_type": "markdown",
   "metadata": {},
   "source": [
    "Import packages"
   ]
  },
  {
   "cell_type": "code",
   "execution_count": 1,
   "metadata": {},
   "outputs": [],
   "source": [
    "import packages.pythonhub as ph\n",
    "import time"
   ]
  },
  {
   "cell_type": "code",
   "execution_count": 2,
   "metadata": {},
   "outputs": [
    {
     "name": "stdout",
     "output_type": "stream",
     "text": [
      "Database connected\n",
      "Serial port: /dev/ttyACM0\n"
     ]
    }
   ],
   "source": [
    "myhub = ph.PythonHub()"
   ]
  },
  {
   "cell_type": "code",
   "execution_count": null,
   "metadata": {},
   "outputs": [],
   "source": [
    "myhub.saveVoltToDB()"
   ]
  },
  {
   "cell_type": "code",
   "execution_count": 3,
   "metadata": {},
   "outputs": [
    {
     "name": "stdout",
     "output_type": "stream",
     "text": [
      "Sending: get volt\n",
      "\n",
      "Received: 3.3235581000\n",
      "\n",
      "Sending: get volt\n",
      "\n",
      "Received: 3.3235581000\n",
      "\n",
      "Sending: get volt\n",
      "\n",
      "Received: 3.3235581000\n",
      "\n",
      "Sending: get volt\n",
      "\n",
      "Received: 3.3235581000\n",
      "\n",
      "Sending: get volt\n",
      "\n",
      "Received: 3.3235581000\n",
      "\n",
      "Sending: get volt\n",
      "\n",
      "Received: 3.3235581000\n",
      "\n",
      "Sending: get volt\n",
      "\n",
      "Received: 3.3235581000\n",
      "\n",
      "Sending: get volt\n",
      "\n",
      "Received: 3.3235581000\n",
      "\n",
      "Sending: get volt\n",
      "\n",
      "Received: 3.3235581000\n",
      "\n",
      "Sending: get volt\n",
      "\n",
      "Received: 3.3235581000\n",
      "\n"
     ]
    }
   ],
   "source": [
    "myhub.samplingVoltandSaveToTuple(1.0,10)"
   ]
  },
  {
   "cell_type": "code",
   "execution_count": null,
   "metadata": {},
   "outputs": [],
   "source": [
    "myhub.saveVoltTuplesToDB()\n"
   ]
  },
  {
   "cell_type": "code",
   "execution_count": null,
   "metadata": {},
   "outputs": [],
   "source": [
    "myhub.loadFromDB()\n",
    "myhub.printVoltTuple()"
   ]
  },
  {
   "cell_type": "code",
   "execution_count": null,
   "metadata": {},
   "outputs": [],
   "source": [
    "myhub.getVoltMean()\n",
    "myhub.getVoltstdev()\n",
    "myhub.plotVolt()"
   ]
  },
  {
   "cell_type": "code",
   "execution_count": null,
   "metadata": {},
   "outputs": [],
   "source": [
    "myhub.getVoltMeanPD()\n",
    "myhub.getVoltvariancePD()\n",
    "myhub.getVoltstdevPD()"
   ]
  },
  {
   "cell_type": "code",
   "execution_count": 4,
   "metadata": {},
   "outputs": [
    {
     "name": "stdout",
     "output_type": "stream",
     "text": [
      "count    1.000000e+01\n",
      "mean     3.323558e+00\n",
      "std      4.681111e-16\n",
      "min      3.323558e+00\n",
      "25%      3.323558e+00\n",
      "50%      3.323558e+00\n",
      "75%      3.323558e+00\n",
      "max      3.323558e+00\n",
      "dtype: float64\n"
     ]
    },
    {
     "data": {
      "text/plain": [
       "count    1.000000e+01\n",
       "mean     3.323558e+00\n",
       "std      4.681111e-16\n",
       "min      3.323558e+00\n",
       "25%      3.323558e+00\n",
       "50%      3.323558e+00\n",
       "75%      3.323558e+00\n",
       "max      3.323558e+00\n",
       "dtype: float64"
      ]
     },
     "execution_count": 4,
     "metadata": {},
     "output_type": "execute_result"
    }
   ],
   "source": [
    "myhub.describeVoltTable()"
   ]
  }
 ],
 "metadata": {
  "kernelspec": {
   "display_name": "Python 3",
   "language": "python",
   "name": "python3"
  },
  "language_info": {
   "codemirror_mode": {
    "name": "ipython",
    "version": 3
   },
   "file_extension": ".py",
   "mimetype": "text/x-python",
   "name": "python",
   "nbconvert_exporter": "python",
   "pygments_lexer": "ipython3",
   "version": "3.10.12"
  }
 },
 "nbformat": 4,
 "nbformat_minor": 2
}
