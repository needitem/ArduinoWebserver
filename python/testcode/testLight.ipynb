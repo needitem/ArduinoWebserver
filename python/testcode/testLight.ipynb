{
 "cells": [
  {
   "cell_type": "code",
   "execution_count": 2,
   "metadata": {},
   "outputs": [
    {
     "name": "stdout",
     "output_type": "stream",
     "text": [
      "Database connected\n",
      "Serial port: /dev/ttyACM0\n"
     ]
    }
   ],
   "source": [
    "import packages.pythonhub as ph\n",
    "hub = ph.PythonHub()"
   ]
  },
  {
   "cell_type": "code",
   "execution_count": 3,
   "metadata": {},
   "outputs": [
    {
     "name": "stdout",
     "output_type": "stream",
     "text": [
      "Sending: get light\n",
      "\n",
      "None\n",
      "Sending: get lightstep\n",
      "\n",
      "Received: 773\n",
      "\n",
      "Sending: get light\n",
      "\n",
      "Received: ambient\n",
      "\n",
      "ambient\n",
      "\n",
      "Sending: get lightstep\n",
      "\n",
      "Received: 652\n",
      "\n",
      "Sending: get light\n",
      "\n",
      "Received: ambient\n",
      "\n",
      "ambient\n",
      "\n",
      "Sending: get lightstep\n",
      "\n",
      "Received: 555\n",
      "\n",
      "Sending: get light\n",
      "\n",
      "Received: ambient\n",
      "\n",
      "ambient\n",
      "\n",
      "Sending: get lightstep\n",
      "\n",
      "Received: 469\n",
      "\n",
      "Sending: get light\n",
      "\n",
      "Received: ambient\n",
      "\n",
      "ambient\n",
      "\n",
      "Sending: get lightstep\n",
      "\n",
      "Received: 401\n",
      "\n"
     ]
    }
   ],
   "source": [
    "hub.sampleLightToTuple(1.0, 5)"
   ]
  },
  {
   "cell_type": "code",
   "execution_count": null,
   "metadata": {},
   "outputs": [],
   "source": [
    "hub.saveLightToDB()"
   ]
  },
  {
   "cell_type": "code",
   "execution_count": null,
   "metadata": {},
   "outputs": [],
   "source": [
    "hub.loadLightFromDB()\n",
    "hub.printLightTuples()"
   ]
  },
  {
   "cell_type": "code",
   "execution_count": 6,
   "metadata": {},
   "outputs": [
    {
     "name": "stdout",
     "output_type": "stream",
     "text": [
      "Sending: set servo 90\n",
      "\n"
     ]
    }
   ],
   "source": [
    "hub.setServo(0)"
   ]
  },
  {
   "cell_type": "code",
   "execution_count": null,
   "metadata": {},
   "outputs": [],
   "source": [
    "hub.avgLight()\n",
    "hub.varianceLight()\n",
    "hub.stdevLight()\n",
    "hub.plotLight()"
   ]
  }
 ],
 "metadata": {
  "kernelspec": {
   "display_name": "Python 3",
   "language": "python",
   "name": "python3"
  },
  "language_info": {
   "codemirror_mode": {
    "name": "ipython",
    "version": 3
   },
   "file_extension": ".py",
   "mimetype": "text/x-python",
   "name": "python",
   "nbconvert_exporter": "python",
   "pygments_lexer": "ipython3",
   "version": "3.10.12"
  }
 },
 "nbformat": 4,
 "nbformat_minor": 2
}
