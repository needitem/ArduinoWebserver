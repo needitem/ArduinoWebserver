{
 "cells": [
  {
   "cell_type": "markdown",
   "metadata": {},
   "source": [
    "Import packages"
   ]
  },
  {
   "cell_type": "code",
   "execution_count": 7,
   "metadata": {},
   "outputs": [],
   "source": [
    "import pythonhub as ph\n",
    "import time"
   ]
  },
  {
   "cell_type": "code",
   "execution_count": 8,
   "metadata": {},
   "outputs": [
    {
     "name": "stdout",
     "output_type": "stream",
     "text": [
      "Database connected\n",
      "Serial port: /dev/ttyACM0\n"
     ]
    }
   ],
   "source": [
    "myhub = ph.PythonHub()"
   ]
  },
  {
   "cell_type": "code",
   "execution_count": 9,
   "metadata": {},
   "outputs": [
    {
     "name": "stdout",
     "output_type": "stream",
     "text": [
      "Sending: get volt\n",
      "\n",
      "Received: 3.3186705000\n",
      "\n"
     ]
    }
   ],
   "source": [
    "myhub.saveVoltToDB()"
   ]
  },
  {
   "cell_type": "code",
   "execution_count": 10,
   "metadata": {},
   "outputs": [
    {
     "name": "stdout",
     "output_type": "stream",
     "text": [
      "Sending: get volt\n",
      "\n",
      "Received: 3.3235581000\n",
      "\n",
      "Sending: get volt\n",
      "\n",
      "Received: 3.3186705000\n",
      "\n",
      "Sending: get volt\n",
      "\n",
      "Received: 3.3235581000\n",
      "\n",
      "Sending: get volt\n",
      "\n",
      "Received: 3.3235581000\n",
      "\n",
      "Sending: get volt\n",
      "\n",
      "Received: 3.3235581000\n",
      "\n",
      "Sending: get volt\n",
      "\n",
      "Received: 3.3186705000\n",
      "\n",
      "Sending: get volt\n",
      "\n",
      "Received: 3.3186705000\n",
      "\n",
      "Sending: get volt\n",
      "\n",
      "Received: 3.3186705000\n",
      "\n",
      "Sending: get volt\n",
      "\n",
      "Received: 3.3186705000\n",
      "\n",
      "Sending: get volt\n",
      "\n",
      "Received: 3.3186705000\n",
      "\n"
     ]
    }
   ],
   "source": [
    "myhub.samplingVoltandSaveToDB(0.1,10)"
   ]
  },
  {
   "cell_type": "code",
   "execution_count": 11,
   "metadata": {},
   "outputs": [],
   "source": [
    "myhub.saveVoltTuplesToDB()\n"
   ]
  },
  {
   "cell_type": "code",
   "execution_count": 12,
   "metadata": {},
   "outputs": [
    {
     "name": "stdout",
     "output_type": "stream",
     "text": [
      "volt: 3.32V, time: Wed Nov 15 17:56:31 2023\n",
      "volt: 3.32V, time: Wed Nov 15 17:56:32 2023\n",
      "volt: 3.32V, time: Wed Nov 15 17:56:33 2023\n",
      "volt: 3.32V, time: Wed Nov 15 17:56:34 2023\n",
      "volt: 3.32V, time: Wed Nov 15 17:56:35 2023\n",
      "volt: 3.32V, time: Wed Nov 15 17:56:37 2023\n",
      "volt: 3.32V, time: Wed Nov 15 17:56:38 2023\n",
      "volt: 3.32V, time: Wed Nov 15 17:56:39 2023\n",
      "volt: 3.32V, time: Wed Nov 15 17:56:40 2023\n",
      "volt: 3.32V, time: Wed Nov 15 17:56:41 2023\n",
      "volt: 3.32V, time: Wed Nov 15 17:56:23 2023\n",
      "volt: 3.32V, time: Wed Nov 15 17:56:31 2023\n",
      "volt: 3.32V, time: Wed Nov 15 17:56:32 2023\n",
      "volt: 3.32V, time: Wed Nov 15 17:56:33 2023\n",
      "volt: 3.32V, time: Wed Nov 15 17:56:34 2023\n",
      "volt: 3.32V, time: Wed Nov 15 17:56:35 2023\n",
      "volt: 3.32V, time: Wed Nov 15 17:56:37 2023\n",
      "volt: 3.32V, time: Wed Nov 15 17:56:38 2023\n",
      "volt: 3.32V, time: Wed Nov 15 17:56:39 2023\n",
      "volt: 3.32V, time: Wed Nov 15 17:56:40 2023\n",
      "volt: 3.32V, time: Wed Nov 15 17:56:41 2023\n"
     ]
    }
   ],
   "source": [
    "myhub.loadFromDB()\n",
    "myhub.printVoltTuple()"
   ]
  }
 ],
 "metadata": {
  "kernelspec": {
   "display_name": "Python 3",
   "language": "python",
   "name": "python3"
  },
  "language_info": {
   "codemirror_mode": {
    "name": "ipython",
    "version": 3
   },
   "file_extension": ".py",
   "mimetype": "text/x-python",
   "name": "python",
   "nbconvert_exporter": "python",
   "pygments_lexer": "ipython3",
   "version": "3.10.12"
  }
 },
 "nbformat": 4,
 "nbformat_minor": 2
}
